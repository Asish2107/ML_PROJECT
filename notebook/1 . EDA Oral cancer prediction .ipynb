{
 "cells": [
  {
   "attachments": {},
   "cell_type": "markdown",
   "id": "1e233234",
   "metadata": {},
   "source": [
    "## Oral cancer prediction\n"
   ]
  },
  {
   "cell_type": "markdown",
   "id": "62e05101",
   "metadata": {},
   "source": [
    "#### Life cycle of Machine learning Project\n",
    "\n",
    "- Understanding the Problem Statement\n",
    "- Data Collection\n",
    "- Data Checks to perform\n",
    "- Exploratory data analysis\n",
    "- Data Pre-Processing\n",
    "- Model Training\n",
    "- Choose best model"
   ]
  },
  {
   "cell_type": "markdown",
   "id": "dfcea981",
   "metadata": {},
   "source": [
    "### 1) Problem statement\n",
    "- This project understands how a patient's oral health is affected by other variables such as tobacco, alcohol, HPV infection, betel quid use, and dietary factors.\n",
    "\n",
    "\n",
    "### 2) Data Collection\n",
    "- Dataset Source - https://www.kaggle.com/datasets/ankushpanday2/oral-cancer-prediction-dataset\n",
    "- The data consists of 25 columns and 84922 rows."
   ]
  },
  {
   "cell_type": "markdown",
   "id": "15b1355f",
   "metadata": {},
   "source": [
    "### 2.1 Import Data and Required Packages\n",
    "####  Importing Pandas, Numpy, Matplotlib, Seaborn and Warings Library."
   ]
  },
  {
   "cell_type": "code",
   "execution_count": 7,
   "id": "7eaae1d7",
   "metadata": {},
   "outputs": [],
   "source": [
    "import numpy as np\n",
    "import pandas as pd\n",
    "import seaborn as sns\n",
    "import matplotlib.pyplot as plt\n",
    "%matplotlib inline\n",
    "import warnings\n",
    "warnings.filterwarnings('ignore')"
   ]
  },
  {
   "cell_type": "markdown",
   "id": "3caeb0bb",
   "metadata": {},
   "source": [
    "#### Import the CSV Data as Pandas DataFrame"
   ]
  },
  {
   "cell_type": "code",
   "execution_count": 8,
   "id": "57907087",
   "metadata": {},
   "outputs": [],
   "source": [
    "df = pd.read_csv('data/data_set.csv')"
   ]
  },
  {
   "cell_type": "markdown",
   "id": "92c8fd8a",
   "metadata": {},
   "source": [
    "#### Show Top 5 Records"
   ]
  },
  {
   "cell_type": "code",
   "execution_count": 9,
   "id": "7d1a2a0b",
   "metadata": {},
   "outputs": [
    {
     "data": {
      "text/html": [
       "<div>\n",
       "<style scoped>\n",
       "    .dataframe tbody tr th:only-of-type {\n",
       "        vertical-align: middle;\n",
       "    }\n",
       "\n",
       "    .dataframe tbody tr th {\n",
       "        vertical-align: top;\n",
       "    }\n",
       "\n",
       "    .dataframe thead th {\n",
       "        text-align: right;\n",
       "    }\n",
       "</style>\n",
       "<table border=\"1\" class=\"dataframe\">\n",
       "  <thead>\n",
       "    <tr style=\"text-align: right;\">\n",
       "      <th></th>\n",
       "      <th>ID</th>\n",
       "      <th>Country</th>\n",
       "      <th>Age</th>\n",
       "      <th>Gender</th>\n",
       "      <th>Tobacco Use</th>\n",
       "      <th>Alcohol Consumption</th>\n",
       "      <th>HPV Infection</th>\n",
       "      <th>Betel Quid Use</th>\n",
       "      <th>Chronic Sun Exposure</th>\n",
       "      <th>Poor Oral Hygiene</th>\n",
       "      <th>...</th>\n",
       "      <th>Difficulty Swallowing</th>\n",
       "      <th>White or Red Patches in Mouth</th>\n",
       "      <th>Tumor Size (cm)</th>\n",
       "      <th>Cancer Stage</th>\n",
       "      <th>Treatment Type</th>\n",
       "      <th>Survival Rate (5-Year, %)</th>\n",
       "      <th>Cost of Treatment (USD)</th>\n",
       "      <th>Economic Burden (Lost Workdays per Year)</th>\n",
       "      <th>Early Diagnosis</th>\n",
       "      <th>Oral Cancer (Diagnosis)</th>\n",
       "    </tr>\n",
       "  </thead>\n",
       "  <tbody>\n",
       "    <tr>\n",
       "      <th>0</th>\n",
       "      <td>1</td>\n",
       "      <td>Italy</td>\n",
       "      <td>36</td>\n",
       "      <td>Female</td>\n",
       "      <td>Yes</td>\n",
       "      <td>Yes</td>\n",
       "      <td>Yes</td>\n",
       "      <td>No</td>\n",
       "      <td>No</td>\n",
       "      <td>Yes</td>\n",
       "      <td>...</td>\n",
       "      <td>No</td>\n",
       "      <td>No</td>\n",
       "      <td>0.000000</td>\n",
       "      <td>0</td>\n",
       "      <td>No Treatment</td>\n",
       "      <td>100.000000</td>\n",
       "      <td>0.00</td>\n",
       "      <td>0</td>\n",
       "      <td>No</td>\n",
       "      <td>No</td>\n",
       "    </tr>\n",
       "    <tr>\n",
       "      <th>1</th>\n",
       "      <td>2</td>\n",
       "      <td>Japan</td>\n",
       "      <td>64</td>\n",
       "      <td>Male</td>\n",
       "      <td>Yes</td>\n",
       "      <td>Yes</td>\n",
       "      <td>Yes</td>\n",
       "      <td>No</td>\n",
       "      <td>Yes</td>\n",
       "      <td>Yes</td>\n",
       "      <td>...</td>\n",
       "      <td>No</td>\n",
       "      <td>No</td>\n",
       "      <td>1.782186</td>\n",
       "      <td>1</td>\n",
       "      <td>No Treatment</td>\n",
       "      <td>83.340103</td>\n",
       "      <td>77772.50</td>\n",
       "      <td>177</td>\n",
       "      <td>No</td>\n",
       "      <td>Yes</td>\n",
       "    </tr>\n",
       "    <tr>\n",
       "      <th>2</th>\n",
       "      <td>3</td>\n",
       "      <td>UK</td>\n",
       "      <td>37</td>\n",
       "      <td>Female</td>\n",
       "      <td>No</td>\n",
       "      <td>Yes</td>\n",
       "      <td>No</td>\n",
       "      <td>No</td>\n",
       "      <td>Yes</td>\n",
       "      <td>Yes</td>\n",
       "      <td>...</td>\n",
       "      <td>No</td>\n",
       "      <td>Yes</td>\n",
       "      <td>3.523895</td>\n",
       "      <td>2</td>\n",
       "      <td>Surgery</td>\n",
       "      <td>63.222871</td>\n",
       "      <td>101164.50</td>\n",
       "      <td>130</td>\n",
       "      <td>Yes</td>\n",
       "      <td>Yes</td>\n",
       "    </tr>\n",
       "    <tr>\n",
       "      <th>3</th>\n",
       "      <td>4</td>\n",
       "      <td>Sri Lanka</td>\n",
       "      <td>55</td>\n",
       "      <td>Male</td>\n",
       "      <td>Yes</td>\n",
       "      <td>Yes</td>\n",
       "      <td>No</td>\n",
       "      <td>Yes</td>\n",
       "      <td>No</td>\n",
       "      <td>Yes</td>\n",
       "      <td>...</td>\n",
       "      <td>No</td>\n",
       "      <td>No</td>\n",
       "      <td>0.000000</td>\n",
       "      <td>0</td>\n",
       "      <td>No Treatment</td>\n",
       "      <td>100.000000</td>\n",
       "      <td>0.00</td>\n",
       "      <td>0</td>\n",
       "      <td>Yes</td>\n",
       "      <td>No</td>\n",
       "    </tr>\n",
       "    <tr>\n",
       "      <th>4</th>\n",
       "      <td>5</td>\n",
       "      <td>South Africa</td>\n",
       "      <td>68</td>\n",
       "      <td>Male</td>\n",
       "      <td>No</td>\n",
       "      <td>No</td>\n",
       "      <td>No</td>\n",
       "      <td>No</td>\n",
       "      <td>No</td>\n",
       "      <td>Yes</td>\n",
       "      <td>...</td>\n",
       "      <td>No</td>\n",
       "      <td>No</td>\n",
       "      <td>2.834789</td>\n",
       "      <td>3</td>\n",
       "      <td>No Treatment</td>\n",
       "      <td>44.293199</td>\n",
       "      <td>45354.75</td>\n",
       "      <td>52</td>\n",
       "      <td>No</td>\n",
       "      <td>Yes</td>\n",
       "    </tr>\n",
       "  </tbody>\n",
       "</table>\n",
       "<p>5 rows × 25 columns</p>\n",
       "</div>"
      ],
      "text/plain": [
       "   ID       Country  Age  Gender Tobacco Use Alcohol Consumption  \\\n",
       "0   1         Italy   36  Female         Yes                 Yes   \n",
       "1   2         Japan   64    Male         Yes                 Yes   \n",
       "2   3            UK   37  Female          No                 Yes   \n",
       "3   4     Sri Lanka   55    Male         Yes                 Yes   \n",
       "4   5  South Africa   68    Male          No                  No   \n",
       "\n",
       "  HPV Infection Betel Quid Use Chronic Sun Exposure Poor Oral Hygiene  ...  \\\n",
       "0           Yes             No                   No               Yes  ...   \n",
       "1           Yes             No                  Yes               Yes  ...   \n",
       "2            No             No                  Yes               Yes  ...   \n",
       "3            No            Yes                   No               Yes  ...   \n",
       "4            No             No                   No               Yes  ...   \n",
       "\n",
       "  Difficulty Swallowing White or Red Patches in Mouth Tumor Size (cm)  \\\n",
       "0                    No                            No        0.000000   \n",
       "1                    No                            No        1.782186   \n",
       "2                    No                           Yes        3.523895   \n",
       "3                    No                            No        0.000000   \n",
       "4                    No                            No        2.834789   \n",
       "\n",
       "  Cancer Stage Treatment Type Survival Rate (5-Year, %)  \\\n",
       "0            0   No Treatment                100.000000   \n",
       "1            1   No Treatment                 83.340103   \n",
       "2            2        Surgery                 63.222871   \n",
       "3            0   No Treatment                100.000000   \n",
       "4            3   No Treatment                 44.293199   \n",
       "\n",
       "  Cost of Treatment (USD)  Economic Burden (Lost Workdays per Year)  \\\n",
       "0                    0.00                                         0   \n",
       "1                77772.50                                       177   \n",
       "2               101164.50                                       130   \n",
       "3                    0.00                                         0   \n",
       "4                45354.75                                        52   \n",
       "\n",
       "   Early Diagnosis Oral Cancer (Diagnosis)  \n",
       "0               No                      No  \n",
       "1               No                     Yes  \n",
       "2              Yes                     Yes  \n",
       "3              Yes                      No  \n",
       "4               No                     Yes  \n",
       "\n",
       "[5 rows x 25 columns]"
      ]
     },
     "execution_count": 9,
     "metadata": {},
     "output_type": "execute_result"
    }
   ],
   "source": [
    "df.head()"
   ]
  },
  {
   "cell_type": "markdown",
   "id": "56a49220",
   "metadata": {},
   "source": [
    "#### Shape of the dataset"
   ]
  },
  {
   "cell_type": "code",
   "execution_count": 10,
   "id": "417e5820",
   "metadata": {},
   "outputs": [
    {
     "data": {
      "text/plain": [
       "(84922, 25)"
      ]
     },
     "execution_count": 10,
     "metadata": {},
     "output_type": "execute_result"
    }
   ],
   "source": [
    "df.shape"
   ]
  },
  {
   "cell_type": "markdown",
   "id": "041aa39d",
   "metadata": {},
   "source": [
    "### 2.2 Dataset information"
   ]
  },
  {
   "cell_type": "markdown",
   "id": "7e3cff9d",
   "metadata": {},
   "source": [
    "- ID – Unique identifier\n",
    "- Country – Country name\n",
    "- Age – Age of the individual\n",
    "- Gender – Male/Female\n",
    "- Tobacco Use – Yes/No\n",
    "- Alcohol Consumption – Yes/No\n",
    "- HPV Infection – Yes/No\n",
    "- Betel Quid Use – Yes/No\n",
    "- Chronic Sun Exposure – Yes/No\n",
    "- Poor Oral Hygiene – Yes/No\n",
    "- Diet (Fruits & Vegetables Intake) – Low/Moderate/High\n",
    "- Family History of Cancer – Yes/No\n",
    "- Compromised Immune System – Yes/No\n",
    "- Oral Lesions – Yes/No\n",
    "- Unexplained Bleeding – Yes/No\n",
    "- Difficulty Swallowing – Yes/No\n",
    "- White or Red Patches in Mouth – Yes/No\n",
    "- Tumor Size (cm) – Numerical value\n",
    "- Cancer Stage – 0 (No Cancer), 1, 2, 3, 4\n",
    "- Treatment Type – Surgery/Radiation/Chemotherapy/Targeted Therapy/No Treatment\n",
    "- Survival Rate (5-Year, %)\n",
    "- Cost of Treatment (USD)\n",
    "- Economic Burden (Lost Workdays per Year)\n",
    "- Early Diagnosis (Yes/No)\n",
    "- Oral Cancer (Diagnosis) – Yes/No (Target Variable)"
   ]
  },
  {
   "cell_type": "markdown",
   "id": "27c4b61b",
   "metadata": {},
   "source": [
    "### 3. Data Checks to perform\n",
    "\n",
    "- Check Missing values\n",
    "- Check Duplicates\n",
    "- Check data type\n",
    "- Check the number of unique values of each column\n",
    "- Check statistics of data set\n",
    "- Check various categories present in the different categorical column"
   ]
  },
  {
   "cell_type": "markdown",
   "id": "c31d4123",
   "metadata": {},
   "source": [
    "### 3.1 Check Missing values"
   ]
  },
  {
   "cell_type": "code",
   "execution_count": 11,
   "id": "707d6a7b",
   "metadata": {},
   "outputs": [
    {
     "data": {
      "text/plain": [
       "ID                                          0\n",
       "Country                                     0\n",
       "Age                                         0\n",
       "Gender                                      0\n",
       "Tobacco Use                                 0\n",
       "Alcohol Consumption                         0\n",
       "HPV Infection                               0\n",
       "Betel Quid Use                              0\n",
       "Chronic Sun Exposure                        0\n",
       "Poor Oral Hygiene                           0\n",
       "Diet (Fruits & Vegetables Intake)           0\n",
       "Family History of Cancer                    0\n",
       "Compromised Immune System                   0\n",
       "Oral Lesions                                0\n",
       "Unexplained Bleeding                        0\n",
       "Difficulty Swallowing                       0\n",
       "White or Red Patches in Mouth               0\n",
       "Tumor Size (cm)                             0\n",
       "Cancer Stage                                0\n",
       "Treatment Type                              0\n",
       "Survival Rate (5-Year, %)                   0\n",
       "Cost of Treatment (USD)                     0\n",
       "Economic Burden (Lost Workdays per Year)    0\n",
       "Early Diagnosis                             0\n",
       "Oral Cancer (Diagnosis)                     0\n",
       "dtype: int64"
      ]
     },
     "execution_count": 11,
     "metadata": {},
     "output_type": "execute_result"
    }
   ],
   "source": [
    "df.isna().sum()"
   ]
  },
  {
   "cell_type": "markdown",
   "id": "ce8f7b83",
   "metadata": {},
   "source": [
    "#### There are no missing values in the data set"
   ]
  },
  {
   "cell_type": "markdown",
   "id": "5840ff7f",
   "metadata": {},
   "source": [
    "### 3.2 Check Duplicates"
   ]
  },
  {
   "cell_type": "code",
   "execution_count": 12,
   "id": "ae16686e",
   "metadata": {},
   "outputs": [
    {
     "data": {
      "text/plain": [
       "0"
      ]
     },
     "execution_count": 12,
     "metadata": {},
     "output_type": "execute_result"
    }
   ],
   "source": [
    "df.duplicated().sum()"
   ]
  },
  {
   "cell_type": "markdown",
   "id": "e5d7ae8e",
   "metadata": {},
   "source": [
    "#### There are no duplicates  values in the data set"
   ]
  },
  {
   "cell_type": "markdown",
   "id": "30dfacc8",
   "metadata": {},
   "source": [
    "### 3.3 Check data types"
   ]
  },
  {
   "cell_type": "code",
   "execution_count": 13,
   "id": "25f95bc8",
   "metadata": {},
   "outputs": [
    {
     "name": "stdout",
     "output_type": "stream",
     "text": [
      "<class 'pandas.core.frame.DataFrame'>\n",
      "RangeIndex: 84922 entries, 0 to 84921\n",
      "Data columns (total 25 columns):\n",
      " #   Column                                    Non-Null Count  Dtype  \n",
      "---  ------                                    --------------  -----  \n",
      " 0   ID                                        84922 non-null  int64  \n",
      " 1   Country                                   84922 non-null  object \n",
      " 2   Age                                       84922 non-null  int64  \n",
      " 3   Gender                                    84922 non-null  object \n",
      " 4   Tobacco Use                               84922 non-null  object \n",
      " 5   Alcohol Consumption                       84922 non-null  object \n",
      " 6   HPV Infection                             84922 non-null  object \n",
      " 7   Betel Quid Use                            84922 non-null  object \n",
      " 8   Chronic Sun Exposure                      84922 non-null  object \n",
      " 9   Poor Oral Hygiene                         84922 non-null  object \n",
      " 10  Diet (Fruits & Vegetables Intake)         84922 non-null  object \n",
      " 11  Family History of Cancer                  84922 non-null  object \n",
      " 12  Compromised Immune System                 84922 non-null  object \n",
      " 13  Oral Lesions                              84922 non-null  object \n",
      " 14  Unexplained Bleeding                      84922 non-null  object \n",
      " 15  Difficulty Swallowing                     84922 non-null  object \n",
      " 16  White or Red Patches in Mouth             84922 non-null  object \n",
      " 17  Tumor Size (cm)                           84922 non-null  float64\n",
      " 18  Cancer Stage                              84922 non-null  int64  \n",
      " 19  Treatment Type                            84922 non-null  object \n",
      " 20  Survival Rate (5-Year, %)                 84922 non-null  float64\n",
      " 21  Cost of Treatment (USD)                   84922 non-null  float64\n",
      " 22  Economic Burden (Lost Workdays per Year)  84922 non-null  int64  \n",
      " 23  Early Diagnosis                           84922 non-null  object \n",
      " 24  Oral Cancer (Diagnosis)                   84922 non-null  object \n",
      "dtypes: float64(3), int64(4), object(18)\n",
      "memory usage: 16.2+ MB\n"
     ]
    }
   ],
   "source": [
    "# Check Null and Dtypes\n",
    "df.info()"
   ]
  },
  {
   "cell_type": "markdown",
   "id": "0dbbf5b4",
   "metadata": {},
   "source": [
    "### 3.4 Checking the number of unique values of each column"
   ]
  },
  {
   "cell_type": "code",
   "execution_count": 14,
   "id": "2c2b61b6",
   "metadata": {},
   "outputs": [
    {
     "data": {
      "text/plain": [
       "ID                                          84922\n",
       "Country                                        17\n",
       "Age                                            83\n",
       "Gender                                          2\n",
       "Tobacco Use                                     2\n",
       "Alcohol Consumption                             2\n",
       "HPV Infection                                   2\n",
       "Betel Quid Use                                  2\n",
       "Chronic Sun Exposure                            2\n",
       "Poor Oral Hygiene                               2\n",
       "Diet (Fruits & Vegetables Intake)               3\n",
       "Family History of Cancer                        2\n",
       "Compromised Immune System                       2\n",
       "Oral Lesions                                    2\n",
       "Unexplained Bleeding                            2\n",
       "Difficulty Swallowing                           2\n",
       "White or Red Patches in Mouth                   2\n",
       "Tumor Size (cm)                             42350\n",
       "Cancer Stage                                    5\n",
       "Treatment Type                                  5\n",
       "Survival Rate (5-Year, %)                   42350\n",
       "Cost of Treatment (USD)                     37235\n",
       "Economic Burden (Lost Workdays per Year)      151\n",
       "Early Diagnosis                                 2\n",
       "Oral Cancer (Diagnosis)                         2\n",
       "dtype: int64"
      ]
     },
     "execution_count": 14,
     "metadata": {},
     "output_type": "execute_result"
    }
   ],
   "source": [
    "df.nunique()"
   ]
  },
  {
   "cell_type": "markdown",
   "id": "a4f6b022",
   "metadata": {},
   "source": [
    "### 3.5 Check statistics of data set"
   ]
  },
  {
   "cell_type": "code",
   "execution_count": 15,
   "id": "76c608dc",
   "metadata": {},
   "outputs": [
    {
     "data": {
      "text/html": [
       "<div>\n",
       "<style scoped>\n",
       "    .dataframe tbody tr th:only-of-type {\n",
       "        vertical-align: middle;\n",
       "    }\n",
       "\n",
       "    .dataframe tbody tr th {\n",
       "        vertical-align: top;\n",
       "    }\n",
       "\n",
       "    .dataframe thead th {\n",
       "        text-align: right;\n",
       "    }\n",
       "</style>\n",
       "<table border=\"1\" class=\"dataframe\">\n",
       "  <thead>\n",
       "    <tr style=\"text-align: right;\">\n",
       "      <th></th>\n",
       "      <th>ID</th>\n",
       "      <th>Age</th>\n",
       "      <th>Tumor Size (cm)</th>\n",
       "      <th>Cancer Stage</th>\n",
       "      <th>Survival Rate (5-Year, %)</th>\n",
       "      <th>Cost of Treatment (USD)</th>\n",
       "      <th>Economic Burden (Lost Workdays per Year)</th>\n",
       "    </tr>\n",
       "  </thead>\n",
       "  <tbody>\n",
       "    <tr>\n",
       "      <th>count</th>\n",
       "      <td>84922.000000</td>\n",
       "      <td>84922.000000</td>\n",
       "      <td>84922.000000</td>\n",
       "      <td>84922.000000</td>\n",
       "      <td>84922.000000</td>\n",
       "      <td>84922.000000</td>\n",
       "      <td>84922.000000</td>\n",
       "    </tr>\n",
       "    <tr>\n",
       "      <th>mean</th>\n",
       "      <td>42461.500000</td>\n",
       "      <td>54.509444</td>\n",
       "      <td>1.747294</td>\n",
       "      <td>1.118756</td>\n",
       "      <td>79.503364</td>\n",
       "      <td>39109.881244</td>\n",
       "      <td>52.028391</td>\n",
       "    </tr>\n",
       "    <tr>\n",
       "      <th>std</th>\n",
       "      <td>24515.014117</td>\n",
       "      <td>10.014839</td>\n",
       "      <td>2.028199</td>\n",
       "      <td>1.340418</td>\n",
       "      <td>26.483746</td>\n",
       "      <td>44710.687054</td>\n",
       "      <td>60.389796</td>\n",
       "    </tr>\n",
       "    <tr>\n",
       "      <th>min</th>\n",
       "      <td>1.000000</td>\n",
       "      <td>15.000000</td>\n",
       "      <td>0.000000</td>\n",
       "      <td>0.000000</td>\n",
       "      <td>10.000750</td>\n",
       "      <td>0.000000</td>\n",
       "      <td>0.000000</td>\n",
       "    </tr>\n",
       "    <tr>\n",
       "      <th>25%</th>\n",
       "      <td>21231.250000</td>\n",
       "      <td>48.000000</td>\n",
       "      <td>0.000000</td>\n",
       "      <td>0.000000</td>\n",
       "      <td>65.233425</td>\n",
       "      <td>0.000000</td>\n",
       "      <td>0.000000</td>\n",
       "    </tr>\n",
       "    <tr>\n",
       "      <th>50%</th>\n",
       "      <td>42461.500000</td>\n",
       "      <td>55.000000</td>\n",
       "      <td>0.000000</td>\n",
       "      <td>0.000000</td>\n",
       "      <td>100.000000</td>\n",
       "      <td>0.000000</td>\n",
       "      <td>0.000000</td>\n",
       "    </tr>\n",
       "    <tr>\n",
       "      <th>75%</th>\n",
       "      <td>63691.750000</td>\n",
       "      <td>61.000000</td>\n",
       "      <td>3.480075</td>\n",
       "      <td>2.000000</td>\n",
       "      <td>100.000000</td>\n",
       "      <td>76468.437500</td>\n",
       "      <td>104.000000</td>\n",
       "    </tr>\n",
       "    <tr>\n",
       "      <th>max</th>\n",
       "      <td>84922.000000</td>\n",
       "      <td>101.000000</td>\n",
       "      <td>5.999899</td>\n",
       "      <td>4.000000</td>\n",
       "      <td>100.000000</td>\n",
       "      <td>159988.000000</td>\n",
       "      <td>179.000000</td>\n",
       "    </tr>\n",
       "  </tbody>\n",
       "</table>\n",
       "</div>"
      ],
      "text/plain": [
       "                 ID           Age  Tumor Size (cm)  Cancer Stage  \\\n",
       "count  84922.000000  84922.000000     84922.000000  84922.000000   \n",
       "mean   42461.500000     54.509444         1.747294      1.118756   \n",
       "std    24515.014117     10.014839         2.028199      1.340418   \n",
       "min        1.000000     15.000000         0.000000      0.000000   \n",
       "25%    21231.250000     48.000000         0.000000      0.000000   \n",
       "50%    42461.500000     55.000000         0.000000      0.000000   \n",
       "75%    63691.750000     61.000000         3.480075      2.000000   \n",
       "max    84922.000000    101.000000         5.999899      4.000000   \n",
       "\n",
       "       Survival Rate (5-Year, %)  Cost of Treatment (USD)  \\\n",
       "count               84922.000000             84922.000000   \n",
       "mean                   79.503364             39109.881244   \n",
       "std                    26.483746             44710.687054   \n",
       "min                    10.000750                 0.000000   \n",
       "25%                    65.233425                 0.000000   \n",
       "50%                   100.000000                 0.000000   \n",
       "75%                   100.000000             76468.437500   \n",
       "max                   100.000000            159988.000000   \n",
       "\n",
       "       Economic Burden (Lost Workdays per Year)  \n",
       "count                              84922.000000  \n",
       "mean                                  52.028391  \n",
       "std                                   60.389796  \n",
       "min                                    0.000000  \n",
       "25%                                    0.000000  \n",
       "50%                                    0.000000  \n",
       "75%                                  104.000000  \n",
       "max                                  179.000000  "
      ]
     },
     "execution_count": 15,
     "metadata": {},
     "output_type": "execute_result"
    }
   ],
   "source": [
    "df.describe()"
   ]
  },
  {
   "cell_type": "markdown",
   "id": "9dc41207",
   "metadata": {},
   "source": [
    "#### Insight\n",
    "- The average age group of people in the data set is 55\n",
    "- 75 percentile of the people have the survival rate of around 100 percent"
   ]
  },
  {
   "cell_type": "markdown",
   "id": "ac52d9cb",
   "metadata": {},
   "source": [
    "### 3.7 Exploring Data"
   ]
  },
  {
   "cell_type": "code",
   "execution_count": 12,
   "id": "1afd3c09",
   "metadata": {},
   "outputs": [
    {
     "data": {
      "text/html": [
       "<div>\n",
       "<style scoped>\n",
       "    .dataframe tbody tr th:only-of-type {\n",
       "        vertical-align: middle;\n",
       "    }\n",
       "\n",
       "    .dataframe tbody tr th {\n",
       "        vertical-align: top;\n",
       "    }\n",
       "\n",
       "    .dataframe thead th {\n",
       "        text-align: right;\n",
       "    }\n",
       "</style>\n",
       "<table border=\"1\" class=\"dataframe\">\n",
       "  <thead>\n",
       "    <tr style=\"text-align: right;\">\n",
       "      <th></th>\n",
       "      <th>ID</th>\n",
       "      <th>Country</th>\n",
       "      <th>Age</th>\n",
       "      <th>Gender</th>\n",
       "      <th>Tobacco Use</th>\n",
       "      <th>Alcohol Consumption</th>\n",
       "      <th>HPV Infection</th>\n",
       "      <th>Betel Quid Use</th>\n",
       "      <th>Chronic Sun Exposure</th>\n",
       "      <th>Poor Oral Hygiene</th>\n",
       "      <th>...</th>\n",
       "      <th>Difficulty Swallowing</th>\n",
       "      <th>White or Red Patches in Mouth</th>\n",
       "      <th>Tumor Size (cm)</th>\n",
       "      <th>Cancer Stage</th>\n",
       "      <th>Treatment Type</th>\n",
       "      <th>Survival Rate (5-Year, %)</th>\n",
       "      <th>Cost of Treatment (USD)</th>\n",
       "      <th>Economic Burden (Lost Workdays per Year)</th>\n",
       "      <th>Early Diagnosis</th>\n",
       "      <th>Oral Cancer (Diagnosis)</th>\n",
       "    </tr>\n",
       "  </thead>\n",
       "  <tbody>\n",
       "    <tr>\n",
       "      <th>0</th>\n",
       "      <td>1</td>\n",
       "      <td>Italy</td>\n",
       "      <td>36</td>\n",
       "      <td>Female</td>\n",
       "      <td>Yes</td>\n",
       "      <td>Yes</td>\n",
       "      <td>Yes</td>\n",
       "      <td>No</td>\n",
       "      <td>No</td>\n",
       "      <td>Yes</td>\n",
       "      <td>...</td>\n",
       "      <td>No</td>\n",
       "      <td>No</td>\n",
       "      <td>0.000000</td>\n",
       "      <td>0</td>\n",
       "      <td>No Treatment</td>\n",
       "      <td>100.000000</td>\n",
       "      <td>0.00</td>\n",
       "      <td>0</td>\n",
       "      <td>No</td>\n",
       "      <td>No</td>\n",
       "    </tr>\n",
       "    <tr>\n",
       "      <th>1</th>\n",
       "      <td>2</td>\n",
       "      <td>Japan</td>\n",
       "      <td>64</td>\n",
       "      <td>Male</td>\n",
       "      <td>Yes</td>\n",
       "      <td>Yes</td>\n",
       "      <td>Yes</td>\n",
       "      <td>No</td>\n",
       "      <td>Yes</td>\n",
       "      <td>Yes</td>\n",
       "      <td>...</td>\n",
       "      <td>No</td>\n",
       "      <td>No</td>\n",
       "      <td>1.782186</td>\n",
       "      <td>1</td>\n",
       "      <td>No Treatment</td>\n",
       "      <td>83.340103</td>\n",
       "      <td>77772.50</td>\n",
       "      <td>177</td>\n",
       "      <td>No</td>\n",
       "      <td>Yes</td>\n",
       "    </tr>\n",
       "    <tr>\n",
       "      <th>2</th>\n",
       "      <td>3</td>\n",
       "      <td>UK</td>\n",
       "      <td>37</td>\n",
       "      <td>Female</td>\n",
       "      <td>No</td>\n",
       "      <td>Yes</td>\n",
       "      <td>No</td>\n",
       "      <td>No</td>\n",
       "      <td>Yes</td>\n",
       "      <td>Yes</td>\n",
       "      <td>...</td>\n",
       "      <td>No</td>\n",
       "      <td>Yes</td>\n",
       "      <td>3.523895</td>\n",
       "      <td>2</td>\n",
       "      <td>Surgery</td>\n",
       "      <td>63.222871</td>\n",
       "      <td>101164.50</td>\n",
       "      <td>130</td>\n",
       "      <td>Yes</td>\n",
       "      <td>Yes</td>\n",
       "    </tr>\n",
       "    <tr>\n",
       "      <th>3</th>\n",
       "      <td>4</td>\n",
       "      <td>Sri Lanka</td>\n",
       "      <td>55</td>\n",
       "      <td>Male</td>\n",
       "      <td>Yes</td>\n",
       "      <td>Yes</td>\n",
       "      <td>No</td>\n",
       "      <td>Yes</td>\n",
       "      <td>No</td>\n",
       "      <td>Yes</td>\n",
       "      <td>...</td>\n",
       "      <td>No</td>\n",
       "      <td>No</td>\n",
       "      <td>0.000000</td>\n",
       "      <td>0</td>\n",
       "      <td>No Treatment</td>\n",
       "      <td>100.000000</td>\n",
       "      <td>0.00</td>\n",
       "      <td>0</td>\n",
       "      <td>Yes</td>\n",
       "      <td>No</td>\n",
       "    </tr>\n",
       "    <tr>\n",
       "      <th>4</th>\n",
       "      <td>5</td>\n",
       "      <td>South Africa</td>\n",
       "      <td>68</td>\n",
       "      <td>Male</td>\n",
       "      <td>No</td>\n",
       "      <td>No</td>\n",
       "      <td>No</td>\n",
       "      <td>No</td>\n",
       "      <td>No</td>\n",
       "      <td>Yes</td>\n",
       "      <td>...</td>\n",
       "      <td>No</td>\n",
       "      <td>No</td>\n",
       "      <td>2.834789</td>\n",
       "      <td>3</td>\n",
       "      <td>No Treatment</td>\n",
       "      <td>44.293199</td>\n",
       "      <td>45354.75</td>\n",
       "      <td>52</td>\n",
       "      <td>No</td>\n",
       "      <td>Yes</td>\n",
       "    </tr>\n",
       "  </tbody>\n",
       "</table>\n",
       "<p>5 rows × 25 columns</p>\n",
       "</div>"
      ],
      "text/plain": [
       "   ID       Country  Age  Gender Tobacco Use Alcohol Consumption  \\\n",
       "0   1         Italy   36  Female         Yes                 Yes   \n",
       "1   2         Japan   64    Male         Yes                 Yes   \n",
       "2   3            UK   37  Female          No                 Yes   \n",
       "3   4     Sri Lanka   55    Male         Yes                 Yes   \n",
       "4   5  South Africa   68    Male          No                  No   \n",
       "\n",
       "  HPV Infection Betel Quid Use Chronic Sun Exposure Poor Oral Hygiene  ...  \\\n",
       "0           Yes             No                   No               Yes  ...   \n",
       "1           Yes             No                  Yes               Yes  ...   \n",
       "2            No             No                  Yes               Yes  ...   \n",
       "3            No            Yes                   No               Yes  ...   \n",
       "4            No             No                   No               Yes  ...   \n",
       "\n",
       "  Difficulty Swallowing White or Red Patches in Mouth Tumor Size (cm)  \\\n",
       "0                    No                            No        0.000000   \n",
       "1                    No                            No        1.782186   \n",
       "2                    No                           Yes        3.523895   \n",
       "3                    No                            No        0.000000   \n",
       "4                    No                            No        2.834789   \n",
       "\n",
       "  Cancer Stage Treatment Type Survival Rate (5-Year, %)  \\\n",
       "0            0   No Treatment                100.000000   \n",
       "1            1   No Treatment                 83.340103   \n",
       "2            2        Surgery                 63.222871   \n",
       "3            0   No Treatment                100.000000   \n",
       "4            3   No Treatment                 44.293199   \n",
       "\n",
       "  Cost of Treatment (USD)  Economic Burden (Lost Workdays per Year)  \\\n",
       "0                    0.00                                         0   \n",
       "1                77772.50                                       177   \n",
       "2               101164.50                                       130   \n",
       "3                    0.00                                         0   \n",
       "4                45354.75                                        52   \n",
       "\n",
       "   Early Diagnosis Oral Cancer (Diagnosis)  \n",
       "0               No                      No  \n",
       "1               No                     Yes  \n",
       "2              Yes                     Yes  \n",
       "3              Yes                      No  \n",
       "4               No                     Yes  \n",
       "\n",
       "[5 rows x 25 columns]"
      ]
     },
     "execution_count": 12,
     "metadata": {},
     "output_type": "execute_result"
    }
   ],
   "source": [
    "df.head()"
   ]
  },
  {
   "cell_type": "code",
   "execution_count": 26,
   "id": "b9081742",
   "metadata": {},
   "outputs": [
    {
     "name": "stdout",
     "output_type": "stream",
     "text": [
      "Categories in 'Country' variable:      ['Italy' 'Japan' 'UK' 'Sri Lanka' 'South Africa' 'Taiwan' 'USA' 'Germany'\n",
      " 'France' 'Australia' 'Brazil' 'Pakistan' 'Kenya' 'Russia' 'Nigeria'\n",
      " 'Egypt' 'India']\n",
      "Categories in 'Gender' variable:   ['Female' 'Male']\n",
      "Categories in'Tobacco Use' variable: ['Yes' 'No']\n",
      "Categories in 'Alcohol Consumption' variable:      ['Yes' 'No']\n",
      "Categories in 'Betel Quid Use' variable:      ['No' 'Yes']\n",
      "Categories in 'HPV Infection' variable:      ['Yes' 'No']\n",
      "Categories in 'Chronic Sun Exposure' variable:      ['No' 'Yes']\n",
      "Categories in'Poor Oral Hygiene' variable: ['Yes' 'No']\n",
      "Categories in 'Diet (Fruits & Vegetables Intake)' variable:      ['Low' 'High' 'Moderate']\n",
      "Categories in 'Family History of Cancer' variable:      ['No' 'Yes']\n",
      "Categories in 'Compromised Immune System' variable:      ['No' 'Yes']\n",
      "Categories in 'Oral Lesions' variable:      ['No' 'Yes']\n",
      "Categories in 'Unexplained Bleeding' variable:      ['No' 'Yes']\n",
      "Categories in 'Difficulty Swallowing' variable:      ['No' 'Yes']\n",
      "Categories in 'White or Red Patches in Mouth ' variable:      ['No' 'Yes']\n",
      "Categories in 'Treatment Type' variable:      ['No Treatment' 'Surgery' 'Radiation' 'Targeted Therapy' 'Chemotherapy']\n",
      "Categories in 'Early Diagnosis  ' variable:      ['No' 'Yes']\n",
      "Categories in 'Oral Cancer (Diagnosis)  ' variable:      ['No' 'Yes']\n"
     ]
    }
   ],
   "source": [
    "print(\"Categories in 'Country' variable:     \",end=\" \" )\n",
    "print(df['Country'].unique())\n",
    "\n",
    "print(\"Categories in 'Gender' variable:  \",end=\" \")\n",
    "print(df['Gender'].unique())\n",
    "\n",
    "print(\"Categories in'Tobacco Use' variable:\",end=\" \" )\n",
    "print(df['Tobacco Use'].unique())\n",
    "\n",
    "print(\"Categories in 'Alcohol Consumption' variable:     \",end=\" \" )\n",
    "print(df['Alcohol Consumption'].unique())\n",
    "\n",
    "print(\"Categories in 'Betel Quid Use' variable:     \",end=\" \" )\n",
    "print(df['Betel Quid Use'].unique())\n",
    "\n",
    "print(\"Categories in 'HPV Infection' variable:     \",end=\" \" )\n",
    "print(df['HPV Infection'].unique())\n",
    "\n",
    "\n",
    "print(\"Categories in 'Chronic Sun Exposure' variable:     \",end=\" \" )\n",
    "print(df['Chronic Sun Exposure'].unique())\n",
    "\n",
    "print(\"Categories in'Poor Oral Hygiene' variable:\",end=\" \" )\n",
    "print(df['Poor Oral Hygiene'].unique())\n",
    "\n",
    "print(\"Categories in 'Diet (Fruits & Vegetables Intake)' variable:     \",end=\" \" )\n",
    "print(df['Diet (Fruits & Vegetables Intake)'].unique())\n",
    "\n",
    "print(\"Categories in 'Family History of Cancer' variable:     \",end=\" \" )\n",
    "print(df['Family History of Cancer'].unique())\n",
    "\n",
    "print(\"Categories in 'Compromised Immune System' variable:     \",end=\" \" )\n",
    "print(df['Compromised Immune System'].unique())\n",
    "\n",
    "\n",
    "print(\"Categories in 'Oral Lesions' variable:     \",end=\" \" )\n",
    "print(df['Oral Lesions'].unique())\n",
    "\n",
    "\n",
    "print(\"Categories in 'Unexplained Bleeding' variable:     \",end=\" \" )\n",
    "print(df['Unexplained Bleeding'].unique())\n",
    "\n",
    "print(\"Categories in 'Difficulty Swallowing' variable:     \",end=\" \" )\n",
    "print(df['Difficulty Swallowing'].unique())\n",
    "\n",
    "print(\"Categories in 'White or Red Patches in Mouth ' variable:     \",end=\" \" )\n",
    "print(df['White or Red Patches in Mouth'].unique())\n",
    "\n",
    "\n",
    "print(\"Categories in 'Treatment Type' variable:     \",end=\" \" )\n",
    "print(df['Treatment Type'].unique())\n",
    "\n",
    "print(\"Categories in 'Early Diagnosis  ' variable:     \",end=\" \" )\n",
    "print(df['Early Diagnosis'].unique())\n",
    "\n",
    "print(\"Categories in 'Oral Cancer (Diagnosis)  ' variable:     \",end=\" \" )\n",
    "print(df['Oral Cancer (Diagnosis)'].unique())\n",
    "\n"
   ]
  },
  {
   "cell_type": "code",
   "execution_count": 27,
   "id": "2dd97e26",
   "metadata": {},
   "outputs": [
    {
     "name": "stdout",
     "output_type": "stream",
     "text": [
      "We have 7 numerical features : ['ID', 'Age', 'Tumor Size (cm)', 'Cancer Stage', 'Survival Rate (5-Year, %)', 'Cost of Treatment (USD)', 'Economic Burden (Lost Workdays per Year)']\n",
      "\n",
      "We have 18 categorical features : ['Country', 'Gender', 'Tobacco Use', 'Alcohol Consumption', 'HPV Infection', 'Betel Quid Use', 'Chronic Sun Exposure', 'Poor Oral Hygiene', 'Diet (Fruits & Vegetables Intake)', 'Family History of Cancer', 'Compromised Immune System', 'Oral Lesions', 'Unexplained Bleeding', 'Difficulty Swallowing', 'White or Red Patches in Mouth', 'Treatment Type', 'Early Diagnosis', 'Oral Cancer (Diagnosis)']\n"
     ]
    }
   ],
   "source": [
    "# define numerical & categorical columns\n",
    "numeric_features = [feature for feature in df.columns if df[feature].dtype != 'O']\n",
    "categorical_features = [feature for feature in df.columns if df[feature].dtype == 'O']\n",
    "\n",
    "# print columns\n",
    "print('We have {} numerical features : {}'.format(len(numeric_features), numeric_features))\n",
    "print('\\nWe have {} categorical features : {}'.format(len(categorical_features), categorical_features))"
   ]
  },
  {
   "cell_type": "code",
   "execution_count": 28,
   "id": "ae2822d1",
   "metadata": {},
   "outputs": [
    {
     "data": {
      "text/html": [
       "<div>\n",
       "<style scoped>\n",
       "    .dataframe tbody tr th:only-of-type {\n",
       "        vertical-align: middle;\n",
       "    }\n",
       "\n",
       "    .dataframe tbody tr th {\n",
       "        vertical-align: top;\n",
       "    }\n",
       "\n",
       "    .dataframe thead th {\n",
       "        text-align: right;\n",
       "    }\n",
       "</style>\n",
       "<table border=\"1\" class=\"dataframe\">\n",
       "  <thead>\n",
       "    <tr style=\"text-align: right;\">\n",
       "      <th></th>\n",
       "      <th>ID</th>\n",
       "      <th>Country</th>\n",
       "      <th>Age</th>\n",
       "      <th>Gender</th>\n",
       "      <th>Tobacco Use</th>\n",
       "      <th>Alcohol Consumption</th>\n",
       "      <th>HPV Infection</th>\n",
       "      <th>Betel Quid Use</th>\n",
       "      <th>Chronic Sun Exposure</th>\n",
       "      <th>Poor Oral Hygiene</th>\n",
       "      <th>...</th>\n",
       "      <th>Difficulty Swallowing</th>\n",
       "      <th>White or Red Patches in Mouth</th>\n",
       "      <th>Tumor Size (cm)</th>\n",
       "      <th>Cancer Stage</th>\n",
       "      <th>Treatment Type</th>\n",
       "      <th>Survival Rate (5-Year, %)</th>\n",
       "      <th>Cost of Treatment (USD)</th>\n",
       "      <th>Economic Burden (Lost Workdays per Year)</th>\n",
       "      <th>Early Diagnosis</th>\n",
       "      <th>Oral Cancer (Diagnosis)</th>\n",
       "    </tr>\n",
       "  </thead>\n",
       "  <tbody>\n",
       "    <tr>\n",
       "      <th>0</th>\n",
       "      <td>1</td>\n",
       "      <td>Italy</td>\n",
       "      <td>36</td>\n",
       "      <td>Female</td>\n",
       "      <td>Yes</td>\n",
       "      <td>Yes</td>\n",
       "      <td>Yes</td>\n",
       "      <td>No</td>\n",
       "      <td>No</td>\n",
       "      <td>Yes</td>\n",
       "      <td>...</td>\n",
       "      <td>No</td>\n",
       "      <td>No</td>\n",
       "      <td>0.000000</td>\n",
       "      <td>0</td>\n",
       "      <td>No Treatment</td>\n",
       "      <td>100.000000</td>\n",
       "      <td>0.0</td>\n",
       "      <td>0</td>\n",
       "      <td>No</td>\n",
       "      <td>No</td>\n",
       "    </tr>\n",
       "    <tr>\n",
       "      <th>1</th>\n",
       "      <td>2</td>\n",
       "      <td>Japan</td>\n",
       "      <td>64</td>\n",
       "      <td>Male</td>\n",
       "      <td>Yes</td>\n",
       "      <td>Yes</td>\n",
       "      <td>Yes</td>\n",
       "      <td>No</td>\n",
       "      <td>Yes</td>\n",
       "      <td>Yes</td>\n",
       "      <td>...</td>\n",
       "      <td>No</td>\n",
       "      <td>No</td>\n",
       "      <td>1.782186</td>\n",
       "      <td>1</td>\n",
       "      <td>No Treatment</td>\n",
       "      <td>83.340103</td>\n",
       "      <td>77772.5</td>\n",
       "      <td>177</td>\n",
       "      <td>No</td>\n",
       "      <td>Yes</td>\n",
       "    </tr>\n",
       "  </tbody>\n",
       "</table>\n",
       "<p>2 rows × 25 columns</p>\n",
       "</div>"
      ],
      "text/plain": [
       "   ID Country  Age  Gender Tobacco Use Alcohol Consumption HPV Infection  \\\n",
       "0   1   Italy   36  Female         Yes                 Yes           Yes   \n",
       "1   2   Japan   64    Male         Yes                 Yes           Yes   \n",
       "\n",
       "  Betel Quid Use Chronic Sun Exposure Poor Oral Hygiene  ...  \\\n",
       "0             No                   No               Yes  ...   \n",
       "1             No                  Yes               Yes  ...   \n",
       "\n",
       "  Difficulty Swallowing White or Red Patches in Mouth Tumor Size (cm)  \\\n",
       "0                    No                            No        0.000000   \n",
       "1                    No                            No        1.782186   \n",
       "\n",
       "  Cancer Stage Treatment Type Survival Rate (5-Year, %)  \\\n",
       "0            0   No Treatment                100.000000   \n",
       "1            1   No Treatment                 83.340103   \n",
       "\n",
       "  Cost of Treatment (USD)  Economic Burden (Lost Workdays per Year)  \\\n",
       "0                     0.0                                         0   \n",
       "1                 77772.5                                       177   \n",
       "\n",
       "   Early Diagnosis Oral Cancer (Diagnosis)  \n",
       "0               No                      No  \n",
       "1               No                     Yes  \n",
       "\n",
       "[2 rows x 25 columns]"
      ]
     },
     "execution_count": 28,
     "metadata": {},
     "output_type": "execute_result"
    }
   ],
   "source": [
    "df.head(2)"
   ]
  },
  {
   "cell_type": "markdown",
   "id": "e598bc93",
   "metadata": {},
   "source": [
    "### 4. Exploring Data ( Visualization )\n",
    "#### 4.1 Visualize average score distribution to make some conclusion. \n",
    "- Histogram\n",
    "- Kernel Distribution Function (KDE)"
   ]
  },
  {
   "cell_type": "markdown",
   "id": "f4726058",
   "metadata": {},
   "source": [
    "#### 4.1.1 Histogram & KDE"
   ]
  },
  {
   "cell_type": "code",
   "execution_count": null,
   "id": "c2510266",
   "metadata": {},
   "outputs": [],
   "source": [
    "fig, axs = plt.subplots(1, 2, figsize=(15, 7))\n",
    "plt.subplot(121)\n",
    "sns.histplot(data=df,x='average',bins=30,kde=True,color='g')\n",
    "plt.subplot(122)\n",
    "sns.histplot(data=df,x='average',kde=True,hue='gender')\n",
    "plt.show()"
   ]
  },
  {
   "cell_type": "code",
   "execution_count": null,
   "id": "e7967c7a",
   "metadata": {},
   "outputs": [],
   "source": [
    "fig, axs = plt.subplots(1, 2, figsize=(15, 7))\n",
    "plt.subplot(121)\n",
    "sns.histplot(data=df,x='total score',bins=30,kde=True,color='g')\n",
    "plt.subplot(122)\n",
    "sns.histplot(data=df,x='total score',kde=True,hue='gender')\n",
    "plt.show()"
   ]
  },
  {
   "cell_type": "markdown",
   "id": "3d200b76",
   "metadata": {},
   "source": [
    "#####  Insights\n",
    "- Female students tend to perform well then male students."
   ]
  },
  {
   "cell_type": "code",
   "execution_count": null,
   "id": "15522737",
   "metadata": {},
   "outputs": [],
   "source": [
    "plt.subplots(1,3,figsize=(25,6))\n",
    "plt.subplot(141)\n",
    "sns.histplot(data=df,x='average',kde=True,hue='lunch')\n",
    "plt.subplot(142)\n",
    "sns.histplot(data=df[df.gender=='female'],x='average',kde=True,hue='lunch')\n",
    "plt.subplot(143)\n",
    "sns.histplot(data=df[df.gender=='male'],x='average',kde=True,hue='lunch')\n",
    "plt.show()"
   ]
  },
  {
   "cell_type": "markdown",
   "id": "569113e7",
   "metadata": {},
   "source": [
    "#####  Insights\n",
    "- Standard lunch helps perform well in exams.\n",
    "- Standard lunch helps perform well in exams be it a male or a female."
   ]
  },
  {
   "cell_type": "code",
   "execution_count": null,
   "id": "0b6c697a",
   "metadata": {},
   "outputs": [],
   "source": [
    "plt.subplots(1,3,figsize=(25,6))\n",
    "plt.subplot(141)\n",
    "ax =sns.histplot(data=df,x='average',kde=True,hue='parental level of education')\n",
    "plt.subplot(142)\n",
    "ax =sns.histplot(data=df[df.gender=='male'],x='average',kde=True,hue='parental level of education')\n",
    "plt.subplot(143)\n",
    "ax =sns.histplot(data=df[df.gender=='female'],x='average',kde=True,hue='parental level of education')\n",
    "plt.show()"
   ]
  },
  {
   "cell_type": "markdown",
   "id": "9e7fd489",
   "metadata": {},
   "source": [
    "#####  Insights\n",
    "- In general parent's education don't help student perform well in exam.\n",
    "- 2nd plot shows that parent's whose education is of associate's degree or master's degree their male child tend to perform well in exam\n",
    "- 3rd plot we can see there is no effect of parent's education on female students."
   ]
  },
  {
   "cell_type": "code",
   "execution_count": null,
   "id": "0b30cbd7",
   "metadata": {},
   "outputs": [],
   "source": [
    "plt.subplots(1,3,figsize=(25,6))\n",
    "plt.subplot(141)\n",
    "ax =sns.histplot(data=df,x='average',kde=True,hue='race/ethnicity')\n",
    "plt.subplot(142)\n",
    "ax =sns.histplot(data=df[df.gender=='female'],x='average',kde=True,hue='race/ethnicity')\n",
    "plt.subplot(143)\n",
    "ax =sns.histplot(data=df[df.gender=='male'],x='average',kde=True,hue='race/ethnicity')\n",
    "plt.show()"
   ]
  },
  {
   "cell_type": "markdown",
   "id": "6180a334",
   "metadata": {},
   "source": [
    "#####  Insights\n",
    "- Students of group A and group B tends to perform poorly in exam.\n",
    "- Students of group A and group B tends to perform poorly in exam irrespective of whether they are male or female"
   ]
  },
  {
   "cell_type": "markdown",
   "id": "a1f7eef3",
   "metadata": {},
   "source": [
    "#### 4.2 Maximumum score of students in all three subjects"
   ]
  },
  {
   "cell_type": "code",
   "execution_count": null,
   "id": "14db115f",
   "metadata": {},
   "outputs": [],
   "source": [
    "\n",
    "plt.figure(figsize=(18,8))\n",
    "plt.subplot(1, 4, 1)\n",
    "plt.title('MATH SCORES')\n",
    "sns.violinplot(y='math score',data=df,color='red',linewidth=3)\n",
    "plt.subplot(1, 4, 2)\n",
    "plt.title('READING SCORES')\n",
    "sns.violinplot(y='reading score',data=df,color='green',linewidth=3)\n",
    "plt.subplot(1, 4, 3)\n",
    "plt.title('WRITING SCORES')\n",
    "sns.violinplot(y='writing score',data=df,color='blue',linewidth=3)\n",
    "plt.show()"
   ]
  },
  {
   "cell_type": "markdown",
   "id": "66d1041f",
   "metadata": {},
   "source": [
    "#### Insights\n",
    "- From the above three plots its clearly visible that most of the students score in between 60-80 in Maths whereas in reading and writing most of them score from 50-80"
   ]
  },
  {
   "cell_type": "markdown",
   "id": "ae77a33d",
   "metadata": {},
   "source": [
    "#### 4.3 Multivariate analysis using pieplot"
   ]
  },
  {
   "cell_type": "code",
   "execution_count": null,
   "id": "2ddf9ce3",
   "metadata": {},
   "outputs": [],
   "source": [
    "plt.rcParams['figure.figsize'] = (30, 12)\n",
    "\n",
    "plt.subplot(1, 5, 1)\n",
    "size = df['gender'].value_counts()\n",
    "labels = 'Female', 'Male'\n",
    "color = ['red','green']\n",
    "\n",
    "\n",
    "plt.pie(size, colors = color, labels = labels,autopct = '.%2f%%')\n",
    "plt.title('Gender', fontsize = 20)\n",
    "plt.axis('off')\n",
    "\n",
    "\n",
    "\n",
    "plt.subplot(1, 5, 2)\n",
    "size = df['race/ethnicity'].value_counts()\n",
    "labels = 'Group C', 'Group D','Group B','Group E','Group A'\n",
    "color = ['red', 'green', 'blue', 'cyan','orange']\n",
    "\n",
    "plt.pie(size, colors = color,labels = labels,autopct = '.%2f%%')\n",
    "plt.title('Race/Ethnicity', fontsize = 20)\n",
    "plt.axis('off')\n",
    "\n",
    "\n",
    "\n",
    "plt.subplot(1, 5, 3)\n",
    "size = df['lunch'].value_counts()\n",
    "labels = 'Standard', 'Free'\n",
    "color = ['red','green']\n",
    "\n",
    "plt.pie(size, colors = color,labels = labels,autopct = '.%2f%%')\n",
    "plt.title('Lunch', fontsize = 20)\n",
    "plt.axis('off')\n",
    "\n",
    "\n",
    "plt.subplot(1, 5, 4)\n",
    "size = df['test preparation course'].value_counts()\n",
    "labels = 'None', 'Completed'\n",
    "color = ['red','green']\n",
    "\n",
    "plt.pie(size, colors = color,labels = labels,autopct = '.%2f%%')\n",
    "plt.title('Test Course', fontsize = 20)\n",
    "plt.axis('off')\n",
    "\n",
    "\n",
    "plt.subplot(1, 5, 5)\n",
    "size = df['parental level of education'].value_counts()\n",
    "labels = 'Some College', \"Associate's Degree\",'High School','Some High School',\"Bachelor's Degree\",\"Master's Degree\"\n",
    "color = ['red', 'green', 'blue', 'cyan','orange','grey']\n",
    "\n",
    "plt.pie(size, colors = color,labels = labels,autopct = '.%2f%%')\n",
    "plt.title('Parental Education', fontsize = 20)\n",
    "plt.axis('off')\n",
    "\n",
    "\n",
    "plt.tight_layout()\n",
    "plt.grid()\n",
    "\n",
    "plt.show()"
   ]
  },
  {
   "cell_type": "markdown",
   "id": "2e2d686a",
   "metadata": {},
   "source": [
    "#####  Insights\n",
    "- Number of Male and Female students is almost equal\n",
    "- Number students are greatest in Group C\n",
    "- Number of students who have standard lunch are greater\n",
    "- Number of students who have not enrolled in any test preparation course is greater\n",
    "- Number of students whose parental education is \"Some College\" is greater followed closely by \"Associate's Degree\""
   ]
  },
  {
   "cell_type": "markdown",
   "id": "ab008237",
   "metadata": {},
   "source": [
    "#### 4.4 Feature Wise Visualization\n",
    "#### 4.4.1 GENDER COLUMN\n",
    "- How is distribution of Gender ?\n",
    "- Is gender has any impact on student's performance ?"
   ]
  },
  {
   "cell_type": "markdown",
   "id": "e1a2c8f5",
   "metadata": {},
   "source": [
    "#### UNIVARIATE ANALYSIS ( How is distribution of Gender ? )"
   ]
  },
  {
   "cell_type": "code",
   "execution_count": null,
   "id": "c435f53b",
   "metadata": {},
   "outputs": [],
   "source": [
    "f,ax=plt.subplots(1,2,figsize=(20,10))\n",
    "sns.countplot(x=df['gender'],data=df,palette ='bright',ax=ax[0],saturation=0.95)\n",
    "for container in ax[0].containers:\n",
    "    ax[0].bar_label(container,color='black',size=20)\n",
    "    \n",
    "plt.pie(x=df['gender'].value_counts(),labels=['Male','Female'],explode=[0,0.1],autopct='%1.1f%%',shadow=True,colors=['#ff4d4d','#ff8000'])\n",
    "plt.show()"
   ]
  },
  {
   "cell_type": "markdown",
   "id": "cfb8c9b2",
   "metadata": {},
   "source": [
    "#### Insights \n",
    "- Gender has balanced data with female students are 518 (48%) and male students are 482 (52%) "
   ]
  },
  {
   "cell_type": "markdown",
   "id": "e440a3a5",
   "metadata": {},
   "source": [
    "#### BIVARIATE ANALYSIS ( Is gender has any impact on student's performance ? ) "
   ]
  },
  {
   "cell_type": "code",
   "execution_count": null,
   "id": "526d49f9",
   "metadata": {},
   "outputs": [],
   "source": [
    "gender_group = df.groupby('gender').mean()\n",
    "gender_group"
   ]
  },
  {
   "cell_type": "code",
   "execution_count": null,
   "id": "b704f144",
   "metadata": {},
   "outputs": [],
   "source": [
    "plt.figure(figsize=(10, 8))\n",
    "\n",
    "X = ['Total Average','Math Average']\n",
    "\n",
    "\n",
    "female_scores = [gender_group['average'][0], gender_group['math score'][0]]\n",
    "male_scores = [gender_group['average'][1], gender_group['math score'][1]]\n",
    "\n",
    "X_axis = np.arange(len(X))\n",
    "  \n",
    "plt.bar(X_axis - 0.2, male_scores, 0.4, label = 'Male')\n",
    "plt.bar(X_axis + 0.2, female_scores, 0.4, label = 'Female')\n",
    "  \n",
    "plt.xticks(X_axis, X)\n",
    "plt.ylabel(\"Marks\")\n",
    "plt.title(\"Total average v/s Math average marks of both the genders\", fontweight='bold')\n",
    "plt.legend()\n",
    "plt.show()"
   ]
  },
  {
   "cell_type": "markdown",
   "id": "72fbab62",
   "metadata": {},
   "source": [
    "#### Insights \n",
    "- On an average females have a better overall score than men.\n",
    "- whereas males have scored higher in Maths."
   ]
  },
  {
   "cell_type": "markdown",
   "id": "1a903c5c",
   "metadata": {},
   "source": [
    "#### 4.4.2 RACE/EHNICITY COLUMN\n",
    "- How is Group wise distribution ?\n",
    "- Is Race/Ehnicity has any impact on student's performance ?"
   ]
  },
  {
   "cell_type": "markdown",
   "id": "69fe557f",
   "metadata": {},
   "source": [
    "#### UNIVARIATE ANALYSIS ( How is Group wise distribution ?)"
   ]
  },
  {
   "cell_type": "code",
   "execution_count": null,
   "id": "acbc5c8e",
   "metadata": {},
   "outputs": [],
   "source": [
    "f,ax=plt.subplots(1,2,figsize=(20,10))\n",
    "sns.countplot(x=df['race/ethnicity'],data=df,palette = 'bright',ax=ax[0],saturation=0.95)\n",
    "for container in ax[0].containers:\n",
    "    ax[0].bar_label(container,color='black',size=20)\n",
    "    \n",
    "plt.pie(x = df['race/ethnicity'].value_counts(),labels=df['race/ethnicity'].value_counts().index,explode=[0.1,0,0,0,0],autopct='%1.1f%%',shadow=True)\n",
    "plt.show()   "
   ]
  },
  {
   "cell_type": "markdown",
   "id": "1762646a",
   "metadata": {},
   "source": [
    "#### Insights \n",
    "- Most of the student belonging from group C /group D.\n",
    "- Lowest number of students belong to groupA."
   ]
  },
  {
   "cell_type": "markdown",
   "id": "2d3a3719",
   "metadata": {},
   "source": [
    "#### BIVARIATE ANALYSIS ( Is Race/Ehnicity has any impact on student's performance ? )"
   ]
  },
  {
   "cell_type": "code",
   "execution_count": null,
   "id": "db261c61",
   "metadata": {},
   "outputs": [],
   "source": [
    "Group_data2=df.groupby('race/ethnicity')\n",
    "f,ax=plt.subplots(1,3,figsize=(20,8))\n",
    "sns.barplot(x=Group_data2['math score'].mean().index,y=Group_data2['math score'].mean().values,palette = 'mako',ax=ax[0])\n",
    "ax[0].set_title('Math score',color='#005ce6',size=20)\n",
    "\n",
    "for container in ax[0].containers:\n",
    "    ax[0].bar_label(container,color='black',size=15)\n",
    "\n",
    "sns.barplot(x=Group_data2['reading score'].mean().index,y=Group_data2['reading score'].mean().values,palette = 'flare',ax=ax[1])\n",
    "ax[1].set_title('Reading score',color='#005ce6',size=20)\n",
    "\n",
    "for container in ax[1].containers:\n",
    "    ax[1].bar_label(container,color='black',size=15)\n",
    "\n",
    "sns.barplot(x=Group_data2['writing score'].mean().index,y=Group_data2['writing score'].mean().values,palette = 'coolwarm',ax=ax[2])\n",
    "ax[2].set_title('Writing score',color='#005ce6',size=20)\n",
    "\n",
    "for container in ax[2].containers:\n",
    "    ax[2].bar_label(container,color='black',size=15)"
   ]
  },
  {
   "cell_type": "markdown",
   "id": "8e292ddd",
   "metadata": {},
   "source": [
    "#### Insights \n",
    "- Group E students have scored the highest marks. \n",
    "- Group A students have scored the lowest marks. \n",
    "- Students from a lower Socioeconomic status have a lower avg in all course subjects"
   ]
  },
  {
   "cell_type": "markdown",
   "id": "1409042e",
   "metadata": {},
   "source": [
    "#### 4.4.3 PARENTAL LEVEL OF EDUCATION COLUMN\n",
    "- What is educational background of student's parent ?\n",
    "- Is parental education has any impact on student's performance ?"
   ]
  },
  {
   "cell_type": "markdown",
   "id": "38aca4fc",
   "metadata": {},
   "source": [
    "#### UNIVARIATE ANALYSIS ( What is educational background of student's parent ? )"
   ]
  },
  {
   "cell_type": "code",
   "execution_count": null,
   "id": "c05ab987",
   "metadata": {},
   "outputs": [],
   "source": [
    "plt.rcParams['figure.figsize'] = (15, 9)\n",
    "plt.style.use('fivethirtyeight')\n",
    "sns.countplot(df['parental level of education'], palette = 'Blues')\n",
    "plt.title('Comparison of Parental Education', fontweight = 30, fontsize = 20)\n",
    "plt.xlabel('Degree')\n",
    "plt.ylabel('count')\n",
    "plt.show()"
   ]
  },
  {
   "cell_type": "markdown",
   "id": "3d351e1d",
   "metadata": {},
   "source": [
    "#### Insights \n",
    "- Largest number of parents are from some college."
   ]
  },
  {
   "cell_type": "markdown",
   "id": "6f38ab41",
   "metadata": {},
   "source": [
    "#### BIVARIATE ANALYSIS ( Is parental education has any impact on student's performance ? )"
   ]
  },
  {
   "cell_type": "code",
   "execution_count": null,
   "id": "122b2581",
   "metadata": {},
   "outputs": [],
   "source": [
    "df.groupby('parental level of education').agg('mean').plot(kind='barh',figsize=(10,10))\n",
    "plt.legend(bbox_to_anchor=(1.05, 1), loc=2, borderaxespad=0.)\n",
    "plt.show()"
   ]
  },
  {
   "cell_type": "markdown",
   "id": "58b3999d",
   "metadata": {},
   "source": [
    "#### Insights \n",
    "- The score of student whose parents possess master and bachelor level education are higher than others."
   ]
  },
  {
   "cell_type": "markdown",
   "id": "079f4f29",
   "metadata": {},
   "source": [
    "#### 4.4.4 LUNCH COLUMN \n",
    "- Which type of lunch is most common amoung students ?\n",
    "- What is the effect of lunch type on test results?\n"
   ]
  },
  {
   "cell_type": "markdown",
   "id": "8584c755",
   "metadata": {},
   "source": [
    "#### UNIVARIATE ANALYSIS ( Which type of lunch is most common amoung students ? )"
   ]
  },
  {
   "cell_type": "code",
   "execution_count": null,
   "id": "a3a277e0",
   "metadata": {},
   "outputs": [],
   "source": [
    "plt.rcParams['figure.figsize'] = (15, 9)\n",
    "plt.style.use('seaborn-talk')\n",
    "sns.countplot(df['lunch'], palette = 'PuBu')\n",
    "plt.title('Comparison of different types of lunch', fontweight = 30, fontsize = 20)\n",
    "plt.xlabel('types of lunch')\n",
    "plt.ylabel('count')\n",
    "plt.show()"
   ]
  },
  {
   "cell_type": "markdown",
   "id": "332b0c50",
   "metadata": {},
   "source": [
    "#### Insights \n",
    "- Students being served Standard lunch was more than free lunch"
   ]
  },
  {
   "cell_type": "markdown",
   "id": "d75db26f",
   "metadata": {},
   "source": [
    "#### BIVARIATE ANALYSIS (  Is lunch type intake has any impact on student's performance ? )"
   ]
  },
  {
   "cell_type": "code",
   "execution_count": null,
   "id": "666babd5",
   "metadata": {},
   "outputs": [],
   "source": [
    "f,ax=plt.subplots(1,2,figsize=(20,8))\n",
    "sns.countplot(x=df['parental level of education'],data=df,palette = 'bright',hue='test preparation course',saturation=0.95,ax=ax[0])\n",
    "ax[0].set_title('Students vs test preparation course ',color='black',size=25)\n",
    "for container in ax[0].containers:\n",
    "    ax[0].bar_label(container,color='black',size=20)\n",
    "    \n",
    "sns.countplot(x=df['parental level of education'],data=df,palette = 'bright',hue='lunch',saturation=0.95,ax=ax[1])\n",
    "for container in ax[1].containers:\n",
    "    ax[1].bar_label(container,color='black',size=20)   "
   ]
  },
  {
   "cell_type": "markdown",
   "id": "0677b04c",
   "metadata": {},
   "source": [
    "#### Insights \n",
    "- Students who get Standard Lunch tend to perform better than students who got free/reduced lunch"
   ]
  },
  {
   "cell_type": "markdown",
   "id": "edd0ec29",
   "metadata": {},
   "source": [
    "#### 4.4.5 TEST PREPARATION COURSE COLUMN \n",
    "- Which type of lunch is most common amoung students ?\n",
    "- Is Test prepration course has any impact on student's performance ?"
   ]
  },
  {
   "cell_type": "markdown",
   "id": "cf8f65bd",
   "metadata": {},
   "source": [
    "#### BIVARIATE ANALYSIS ( Is Test prepration course has any impact on student's performance ? )"
   ]
  },
  {
   "cell_type": "code",
   "execution_count": null,
   "id": "1b08ed26",
   "metadata": {},
   "outputs": [],
   "source": [
    "plt.figure(figsize=(12,6))\n",
    "plt.subplot(2,2,1)\n",
    "sns.barplot (x=df['lunch'], y=df['math score'], hue=df['test preparation course'])\n",
    "plt.subplot(2,2,2)\n",
    "sns.barplot (x=df['lunch'], y=df['reading score'], hue=df['test preparation course'])\n",
    "plt.subplot(2,2,3)\n",
    "sns.barplot (x=df['lunch'], y=df['writing score'], hue=df['test preparation course'])"
   ]
  },
  {
   "cell_type": "markdown",
   "id": "5bab116e",
   "metadata": {},
   "source": [
    "#### Insights  \n",
    "- Students who have completed the Test Prepration Course have scores higher in all three categories than those who haven't taken the course"
   ]
  },
  {
   "cell_type": "markdown",
   "id": "4069d6e6",
   "metadata": {},
   "source": [
    "#### 4.4.6 CHECKING OUTLIERS"
   ]
  },
  {
   "cell_type": "code",
   "execution_count": null,
   "id": "62a813a5",
   "metadata": {},
   "outputs": [],
   "source": [
    "plt.subplots(1,4,figsize=(16,5))\n",
    "plt.subplot(141)\n",
    "sns.boxplot(df['math score'],color='skyblue')\n",
    "plt.subplot(142)\n",
    "sns.boxplot(df['reading score'],color='hotpink')\n",
    "plt.subplot(143)\n",
    "sns.boxplot(df['writing score'],color='yellow')\n",
    "plt.subplot(144)\n",
    "sns.boxplot(df['average'],color='lightgreen')\n",
    "plt.show()"
   ]
  },
  {
   "cell_type": "markdown",
   "id": "957e8bef",
   "metadata": {},
   "source": [
    "#### 4.4.7 MUTIVARIATE ANALYSIS USING PAIRPLOT"
   ]
  },
  {
   "cell_type": "code",
   "execution_count": null,
   "id": "f09f746c",
   "metadata": {},
   "outputs": [],
   "source": [
    "sns.pairplot(df,hue = 'gender')\n",
    "plt.show()"
   ]
  },
  {
   "cell_type": "markdown",
   "id": "f7991322",
   "metadata": {},
   "source": [
    "#### Insights\n",
    "- From the above plot it is clear that all the scores increase linearly with each other."
   ]
  },
  {
   "cell_type": "markdown",
   "id": "b7e20716",
   "metadata": {},
   "source": [
    "### 5. Conclusions\n",
    "- Student's Performance is related with lunch, race, parental level education\n",
    "- Females lead in pass percentage and also are top-scorers\n",
    "- Student's Performance is not much related with test preparation course\n",
    "- Finishing preparation course is benefitial."
   ]
  }
 ],
 "metadata": {
  "kernelspec": {
   "display_name": "Python 3",
   "language": "python",
   "name": "python3"
  },
  "language_info": {
   "codemirror_mode": {
    "name": "ipython",
    "version": 3
   },
   "file_extension": ".py",
   "mimetype": "text/x-python",
   "name": "python",
   "nbconvert_exporter": "python",
   "pygments_lexer": "ipython3",
   "version": "3.8.20"
  }
 },
 "nbformat": 4,
 "nbformat_minor": 5
}
